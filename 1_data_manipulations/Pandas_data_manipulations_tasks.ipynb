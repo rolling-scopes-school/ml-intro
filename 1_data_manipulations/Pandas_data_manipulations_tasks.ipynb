{
 "cells": [
  {
   "cell_type": "markdown",
   "id": "6d6010da",
   "metadata": {},
   "source": [
    "# How to complete this assignment\n",
    "First, download [this Kaggle dataset](https://www.kaggle.com/hugomathien/soccer) and extract *sqlite* database. You may need to register at https://www.kaggle.com/ beforehand. Then complete 15 graded tasks below, the score is given in brackets. Finally submit the resulting `.ipynb` file to rs-app Auto-test.\n",
    "\n",
    "- Do not delete or rename the variables given before the inscription `#your code here`, they are needed for the correct verification.\n",
    "- Do not change the code in the last Notebook cell, it is required for the server check.\n",
    "- Your Notebook must run completely without errors to be graded! Please check everything before submission by going *Cell -> Run All*"
   ]
  },
  {
   "cell_type": "markdown",
   "id": "0dbd5f9a",
   "metadata": {},
   "source": [
    "## Some important notes\n",
    "- If you need to **calculate the number of \"something\"** that means we expect you to assign an Integer to the given variable\n",
    "- If you need to **make a list of \"something\"** we expect you to assign a Python list with appropriate values to the given variable\n",
    "- If you need to find a **specifiс player, day of the week, team, etc.** we expect you to assign a String with the full name of the entity to the given variable (`player_name`, day of week full name, `team_name`, etc.)"
   ]
  },
  {
   "cell_type": "code",
   "execution_count": null,
   "id": "f52b1bac",
   "metadata": {},
   "outputs": [],
   "source": [
    "import sqlite3\n",
    "import pandas as pd\n",
    "import os\n",
    "\n",
    "pd.set_option('display.max_column', None)"
   ]
  },
  {
   "cell_type": "code",
   "execution_count": null,
   "id": "8ebe6afd",
   "metadata": {},
   "outputs": [],
   "source": [
    "# Leave that code unchanged, it is required for the server check!\n",
    "db = sqlite3.connect(os.environ.get(\"DB_PATH\") or 'database.sqlite')"
   ]
  },
  {
   "cell_type": "code",
   "execution_count": null,
   "id": "9860d0d0",
   "metadata": {},
   "outputs": [],
   "source": [
    "# You may load the data from SQL table directly to the Pandas dataframe as\n",
    "player_data = pd.read_sql(\"SELECT * FROM Player;\", db)"
   ]
  },
  {
   "cell_type": "code",
   "execution_count": null,
   "id": "7e69a7af",
   "metadata": {},
   "outputs": [],
   "source": [
    "player_data.head()"
   ]
  },
  {
   "cell_type": "markdown",
   "id": "f8b23f3a",
   "metadata": {},
   "source": [
    "**Task 1 (0.25 point).** Calculate the number of players with a height between 180 and 190 inclusive"
   ]
  },
  {
   "cell_type": "code",
   "execution_count": null,
   "id": "7cd6f780",
   "metadata": {},
   "outputs": [],
   "source": [
    "players_180_190 = # Your code here"
   ]
  },
  {
   "cell_type": "code",
   "execution_count": null,
   "id": "9d058065",
   "metadata": {},
   "outputs": [],
   "source": [
    "assert(isinstance(players_180_190, int))"
   ]
  },
  {
   "cell_type": "markdown",
   "id": "5a39f3bc",
   "metadata": {},
   "source": [
    "**Task 2 (0.25 point).** Calculate the number of players born in 1980. <br>\n",
    "**Hint:** you may want to cast your 'birthday' column to DateTime type by [pandas.to_datetime](https://pandas.pydata.org/docs/reference/api/pandas.to_datetime.html)"
   ]
  },
  {
   "cell_type": "code",
   "execution_count": null,
   "id": "ff21f7a2",
   "metadata": {},
   "outputs": [],
   "source": [
    "players_1980 = # Your code here"
   ]
  },
  {
   "cell_type": "code",
   "execution_count": null,
   "id": "e53cc066",
   "metadata": {},
   "outputs": [],
   "source": [
    "assert(isinstance(players_1980, int))"
   ]
  },
  {
   "cell_type": "markdown",
   "id": "70d1dea0",
   "metadata": {},
   "source": [
    "**Task 3 (0.25 point).** Make a list of the top 10 players with the highest weight sorted in descending order. If there are several players with the same weight put them in the lexicographic order by name."
   ]
  },
  {
   "cell_type": "code",
   "execution_count": null,
   "id": "b0dbdaf5",
   "metadata": {},
   "outputs": [],
   "source": [
    "highest_players = # Your code here"
   ]
  },
  {
   "cell_type": "code",
   "execution_count": null,
   "id": "40dabe0d",
   "metadata": {},
   "outputs": [],
   "source": [
    "assert(len(highest_players) == 10)\n",
    "assert(isinstance(highest_players, list))\n",
    "for i in range(10):\n",
    "    assert(isinstance(highest_players[i], str))"
   ]
  },
  {
   "cell_type": "markdown",
   "id": "ff30607f",
   "metadata": {},
   "source": [
    "**Task 4 (0.5 point).** Make a list of tuples containing years along with the number of players born in that year from 1980 up to 1990. <br>\n",
    "**Structure example**: [(1980, 123), (1981, 140) ..., (1990, 83)] -> There were born 123 players in 1980, there were born 140 players in 1981 and etc."
   ]
  },
  {
   "cell_type": "code",
   "execution_count": null,
   "id": "9b609f1c",
   "metadata": {},
   "outputs": [],
   "source": [
    "years_born_players = # Your code here"
   ]
  },
  {
   "cell_type": "code",
   "execution_count": null,
   "id": "64cbf754",
   "metadata": {},
   "outputs": [],
   "source": [
    "assert(len(years_born_players) == 11)\n",
    "assert(isinstance(years_born_players, list))\n",
    "for i in range(10):\n",
    "    assert(isinstance(years_born_players[i], tuple))\n",
    "    assert(isinstance(years_born_players[i][0], int))\n",
    "    assert(isinstance(years_born_players[i][1], int))"
   ]
  },
  {
   "cell_type": "markdown",
   "id": "33cbd931",
   "metadata": {},
   "source": [
    "**Task 5 (0.5 point).** Calculate the mean and the standard deviation of the players' **height** with the name **Adriano**. <br>\n",
    "**Note:** Name is represented by the first part of `player_name`."
   ]
  },
  {
   "cell_type": "code",
   "execution_count": null,
   "id": "614fac31",
   "metadata": {},
   "outputs": [],
   "source": [
    "adriano_mean, adriano_std = # Your code here"
   ]
  },
  {
   "cell_type": "code",
   "execution_count": null,
   "id": "f508c49f",
   "metadata": {},
   "outputs": [],
   "source": [
    "assert(isinstance(adriano_mean, float))\n",
    "assert(isinstance(adriano_std, float))"
   ]
  },
  {
   "cell_type": "markdown",
   "id": "8a361dfd",
   "metadata": {},
   "source": [
    "**Task 6 (0.75 point).** How many players were born on each day of the week? Find the day of the week with the minimum number of players born."
   ]
  },
  {
   "cell_type": "code",
   "execution_count": null,
   "id": "c140be4f",
   "metadata": {},
   "outputs": [],
   "source": [
    "dow_with_min_players_born = # Your code here"
   ]
  },
  {
   "cell_type": "code",
   "execution_count": null,
   "id": "fc041623",
   "metadata": {},
   "outputs": [],
   "source": [
    "assert(isinstance(dow_with_min_players_born, str))"
   ]
  },
  {
   "cell_type": "markdown",
   "id": "dc7428be",
   "metadata": {},
   "source": [
    "**Task 7 (0.75 point).** Find a league with the most matches in total. If there are several leagues with the same amount of matches, take the first in the lexical order."
   ]
  },
  {
   "cell_type": "code",
   "execution_count": null,
   "id": "ff3113ac",
   "metadata": {},
   "outputs": [],
   "source": [
    "league_most_matches = # Your code here"
   ]
  },
  {
   "cell_type": "code",
   "execution_count": null,
   "id": "390a265b",
   "metadata": {},
   "outputs": [],
   "source": [
    "assert(isinstance(league_most_matches, str))"
   ]
  },
  {
   "cell_type": "markdown",
   "id": "97199b7d",
   "metadata": {},
   "source": [
    "**Task 8 (1.25 point).** Find a player who participated in the largest number of matches during the whole match history. Assign a `player_name` to the given variable"
   ]
  },
  {
   "cell_type": "code",
   "execution_count": null,
   "id": "ec31bc69",
   "metadata": {},
   "outputs": [],
   "source": [
    "max_matches_player = # Your code here"
   ]
  },
  {
   "cell_type": "code",
   "execution_count": null,
   "id": "00ec2e89",
   "metadata": {},
   "outputs": [],
   "source": [
    "assert(isinstance(max_matches_player, str))"
   ]
  },
  {
   "cell_type": "markdown",
   "id": "dbc68bfe",
   "metadata": {},
   "source": [
    "**Task 9 (1.5 point).** List top-5 tuples of most correlated **player's characteristics** in the descending order of the absolute [Pearson's coefficient](https://en.wikipedia.org/wiki/Pearson_correlation_coefficient) value.\n",
    "\n",
    "**Note 1:** Players characteristics are all the columns in `Player_Attributes` table except `[id, player_fifa_api_id, player_api_id, date, preferred_foot, attacking_work_rate, defensive_work_rate]`). <br>\n",
    "**Note 2:** Exclude duplicated pairs from the list. E.g. ('gk_handling', 'gk_reflexes') and ('gk_reflexes', 'gk_handling') are duplicates, leave just one of them in the resulting list.\n",
    "\n",
    "**Hint:** You may use [dataframe.corr()](https://pandas.pydata.org/docs/reference/api/pandas.DataFrame.corr.html) for calculating pairwise Pearson correlation."
   ]
  },
  {
   "cell_type": "code",
   "execution_count": null,
   "id": "47c1412e",
   "metadata": {},
   "outputs": [],
   "source": [
    "top_correlated_features = # Your code here"
   ]
  },
  {
   "cell_type": "code",
   "execution_count": null,
   "id": "67acd6bf",
   "metadata": {},
   "outputs": [],
   "source": [
    "assert(len(top_correlated_features) == 5)\n",
    "assert(isinstance(top_correlated_features, list))\n",
    "for i in range(5):\n",
    "    assert(isinstance(top_correlated_features[i], tuple))\n",
    "    assert(isinstance(top_correlated_features[i][0], str))\n",
    "    assert(isinstance(top_correlated_features[i][1], str))"
   ]
  },
  {
   "cell_type": "markdown",
   "id": "7d3d8fd3",
   "metadata": {},
   "source": [
    "**Task 10 (2 points).** Find top-5 most similar players to **Neymar** whose names are given. The similarity is measured as [Euclidean distance](https://en.wikipedia.org/wiki/Euclidean_distance) between vectors of players' characteristics (described in the task above). Put their names in a vector in ascending order by Euclidean distance and sorted by `player_name` if the distance is the same<br>\n",
    "**Note 1:** There are many records for some players in the `Player_Attributes` table. You need to take the freshest data (characteristics with the most recent `date`). <br>\n",
    "**Note 2:** Use pure values of the characteristics even if you are aware of such preprocessing technics as normalization. <br>\n",
    "**Note 3:** Please avoid using any built-in methods for calculating the Euclidean distance between vectors, think about implementing your own."
   ]
  },
  {
   "cell_type": "code",
   "execution_count": null,
   "id": "fac5a571",
   "metadata": {},
   "outputs": [],
   "source": [
    "neymar_similarities = # Your code here"
   ]
  },
  {
   "cell_type": "code",
   "execution_count": null,
   "id": "ddb1876a",
   "metadata": {},
   "outputs": [],
   "source": [
    "assert(len(neymar_similarities) == 5)\n",
    "assert(isinstance(neymar_similarities, list))\n",
    "for i in range(5):\n",
    "    assert(isinstance(neymar_similarities[i], str))"
   ]
  },
  {
   "cell_type": "markdown",
   "id": "a3a7f878",
   "metadata": {},
   "source": [
    "**Task 11 (1 point).** Calculate the number of home matches played by the **Borussia Dortmund** team in **Germany 1. Bundesliga** in season **2008/2009**"
   ]
  },
  {
   "cell_type": "code",
   "execution_count": null,
   "id": "bdf5a267",
   "metadata": {},
   "outputs": [],
   "source": [
    "borussia_bundesliga_2008_2009_matches = # Your code here"
   ]
  },
  {
   "cell_type": "code",
   "execution_count": null,
   "id": "488fdd4c",
   "metadata": {},
   "outputs": [],
   "source": [
    "assert(isinstance(borussia_bundesliga_2008_2009_matches, int))"
   ]
  },
  {
   "cell_type": "markdown",
   "id": "69dca9a5",
   "metadata": {},
   "source": [
    "**Task 12 (1 point).** Find a team having the most matches (both home and away!) in the **Germany 1. Bundesliga** in **2008/2009** season. Return number of matches."
   ]
  },
  {
   "cell_type": "code",
   "execution_count": null,
   "id": "9969ba5c",
   "metadata": {},
   "outputs": [],
   "source": [
    "team_most_matches_bundesliga_2008_2009 = # Your code here"
   ]
  },
  {
   "cell_type": "code",
   "execution_count": null,
   "id": "ef3b8fa2",
   "metadata": {},
   "outputs": [],
   "source": [
    "assert(isinstance(team_most_matches_bundesliga_2008_2009, int))"
   ]
  },
  {
   "cell_type": "markdown",
   "id": "2f3c65aa",
   "metadata": {},
   "source": [
    "**Task 13 (1 point).** Count total number of **Arsenal** matches (both home and away!) in the **2015/2016** season which they have won. <br><br>\n",
    "**Note:** Winning a game means scoring **more** goals than an opponent."
   ]
  },
  {
   "cell_type": "code",
   "execution_count": null,
   "id": "52456f34",
   "metadata": {},
   "outputs": [],
   "source": [
    "arsenal_won_matches_2015_2016 = # Your code here"
   ]
  },
  {
   "cell_type": "code",
   "execution_count": null,
   "id": "214d9689",
   "metadata": {},
   "outputs": [],
   "source": [
    "assert(isinstance(arsenal_won_matches_2015_2016, int))"
   ]
  },
  {
   "cell_type": "markdown",
   "id": "d70d5b23",
   "metadata": {},
   "source": [
    "**Task 14 (2 points).** Find a team with the highest win rate in the **2015/2016** season. Win rate means won matches / all matches. If there are several teams with the highest win rate return the first by name in lexical order"
   ]
  },
  {
   "cell_type": "code",
   "execution_count": null,
   "id": "b1aa7db0",
   "metadata": {},
   "outputs": [],
   "source": [
    "team_highest_winrate_2015_2016 = # Your code here"
   ]
  },
  {
   "cell_type": "code",
   "execution_count": null,
   "id": "b4cc8e46",
   "metadata": {},
   "outputs": [],
   "source": [
    "assert(isinstance(team_highest_winrate_2015_2016, str))"
   ]
  },
  {
   "cell_type": "markdown",
   "id": "f7f3b4f5",
   "metadata": {},
   "source": [
    "**Task 15 (2 points).** Determine the team with the maximum days' gap between matches in **England Premier League 2010/2011 season**. Return number of days in that gap. <br>\n",
    "**Note**: a *gap* means the number of days between two consecutive matches of the same team."
   ]
  },
  {
   "cell_type": "code",
   "execution_count": null,
   "id": "a4c33e5f",
   "metadata": {},
   "outputs": [],
   "source": [
    "highest_gap_england_2010_2011 = # Your code here"
   ]
  },
  {
   "cell_type": "code",
   "execution_count": null,
   "id": "5f7aa84e",
   "metadata": {},
   "outputs": [],
   "source": [
    "assert(isinstance(highest_gap_england_2010_2011, int))"
   ]
  },
  {
   "cell_type": "markdown",
   "id": "acecc77f",
   "metadata": {},
   "source": [
    "### Warning! Do not change anything in the area below"
   ]
  },
  {
   "cell_type": "code",
   "execution_count": null,
   "id": "94c3b9be",
   "metadata": {},
   "outputs": [],
   "source": [
    "with open('student_answers.txt', 'w') as file:\n",
    "    file.write(f\"{players_180_190}\\n\")\n",
    "    file.write(f\"{players_1980}\\n\")\n",
    "    file.write(f\"{highest_players}\\n\")\n",
    "    file.write(f\"{years_born_players}\\n\")\n",
    "    file.write(f\"{round(adriano_mean, 3)} {round(adriano_std, 3)}\\n\")\n",
    "    file.write(f\"{dow_with_min_players_born}\\n\")\n",
    "    file.write(f\"{league_most_matches}\\n\")\n",
    "    file.write(f\"{max_matches_player}\\n\")\n",
    "    file.write(f\"{';'.join(['%s,%s' % tup for tup in top_correlated_features])};\\n\")\n",
    "    file.write(f\"{neymar_similarities}\\n\")\n",
    "    file.write(f\"{borussia_bundesliga_2008_2009_matches}\\n\")\n",
    "    file.write(f\"{team_most_matches_bundesliga_2008_2009}\\n\")\n",
    "    file.write(f\"{arsenal_won_matches_2015_2016}\\n\")\n",
    "    file.write(f\"{team_highest_winrate_2015_2016}\\n\")\n",
    "    file.write(f\"{highest_gap_england_2010_2011}\\n\")"
   ]
  }
 ],
 "metadata": {
  "kernelspec": {
   "display_name": "Python 3 (ipykernel)",
   "language": "python",
   "name": "python3"
  },
  "language_info": {
   "codemirror_mode": {
    "name": "ipython",
    "version": 3
   },
   "file_extension": ".py",
   "mimetype": "text/x-python",
   "name": "python",
   "nbconvert_exporter": "python",
   "pygments_lexer": "ipython3",
   "version": "3.8.12"
  }
 },
 "nbformat": 4,
 "nbformat_minor": 5
}
